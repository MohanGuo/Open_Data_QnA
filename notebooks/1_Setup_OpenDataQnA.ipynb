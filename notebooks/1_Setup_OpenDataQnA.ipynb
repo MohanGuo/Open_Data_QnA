{
 "cells": [
  {
   "cell_type": "markdown",
   "metadata": {},
   "source": [
    "<div style=\"display: flex; align-items: left;\">\n",
    "    <a href=\"https://sites.google.com/corp/google.com/genai-solutions/home?authuser=0\">\n",
    "        <img src=\"https://storage.googleapis.com/miscfilespublic/Linkedin%20Banner%20%E2%80%93%202.png\" style=\"margin-right\">\n",
    "    </a>\n",
    "</div>"
   ]
  },
  {
   "cell_type": "code",
   "execution_count": 1,
   "metadata": {
    "id": "copyright"
   },
   "outputs": [],
   "source": [
    "# Copyright 2024 Google LLC\n",
    "#\n",
    "# Licensed under the Apache License, Version 2.0 (the \"License\");\n",
    "# you may not use this file except in compliance with the License.\n",
    "# You may obtain a copy of the License at\n",
    "#\n",
    "#     https://www.apache.org/licenses/LICENSE-2.0\n",
    "#\n",
    "# Unless required by applicable law or agreed to in writing, software\n",
    "# distributed under the License is distributed on an \"AS IS\" BASIS,\n",
    "# WITHOUT WARRANTIES OR CONDITIONS OF ANY KIND, either express or implied.\n",
    "# See the License for the specific language governing permissions and\n",
    "# limitations under the License."
   ]
  },
  {
   "cell_type": "markdown",
   "metadata": {
    "id": "DRyGcAepAPJ5"
   },
   "source": [
    "\n",
    "<h1 align=\"center\">Open Data QnA - Chat with your SQL Database</h1> \n",
    "\n",
    "---\n",
    "\n",
    "This notebook first walks through the Vector Store Setup needed for running the Open Data QnA application. \n",
    "\n",
    "Currently supported Source DBs are: \n",
    "- PostgreSQL on Google Cloud SQL \n",
    "- BigQuery\n",
    "\n",
    "Furthermore, the following vector stores are supported \n",
    "- pgvector on PostgreSQL \n",
    "- BigQuery vector\n",
    "\n",
    "\n",
    "The setup part covers the following steps: \n",
    "> 1. Configuration: Intial GCP project, IAM permissions, Environment  and Databases setup including logging on Bigquery for analytics\n",
    "\n",
    "> 2. Creation of Table, Column and Known Good Query Embeddings in the Vector Store  for Retreival Augmented Generation(RAG)\n",
    "\n",
    "> 3. Setting up firestore for persisting the session history for multiturn\n",
    "\n",
    "\n",
    "Afterwards, you will be able to run the Open Data QnA Pipeline to generate SQL queries and answer questions over your data source. "
   ]
  },
  {
   "cell_type": "markdown",
   "metadata": {
    "id": "jsWGZW_fUJjN"
   },
   "source": [
    "### 📒 Using this interactive notebook\n",
    "\n",
    "If you have not used this IDE with jupyter notebooks it will ask for installing Python + Jupyter extensions. Please go ahead install them\n",
    "\n",
    "Click the **run** icons ▶️  of each cell within this notebook.\n",
    "\n",
    "> 💡 Alternatively, you can run the currently selected cell with `Ctrl + Enter` (or `⌘ + Enter` on a Mac).\n",
    "\n",
    "> ⚠️ **To avoid any errors**, wait for each section to finish in their order before clicking the next “run” icon.\n",
    "\n",
    "This sample must be connected to a **Google Cloud project**, but nothing else is needed other than your Google Cloud project.\n",
    "\n",
    "You can use an existing project. Alternatively, you can create a new Cloud project [with cloud credits for free.](https://cloud.google.com/free/docs/gcp-free-tier)"
   ]
  },
  {
   "cell_type": "markdown",
   "metadata": {},
   "source": [
    "### **Change your Kernel to the created .venv with poetry from README.md**\n",
    "\n",
    "Path would look like e.g. /home/admin_/opendata/.venv/bin/python or ~cache/user/opendataqna/.venv/bin/python\n",
    "\n",
    "Below is the Kernel how it should look like before you proceed.\n",
    "\n",
    "\n",
    "![Kernel](../utilities/imgs/Kernel%20Changed.png)"
   ]
  },
  {
   "cell_type": "markdown",
   "metadata": {},
   "source": [
    "### Set Python Module Path to Root"
   ]
  },
  {
   "cell_type": "code",
   "execution_count": 3,
   "metadata": {},
   "outputs": [],
   "source": [
    "import os\n",
    "import sys\n",
    "\n",
    "module_path = os.path.abspath(os.path.join('..'))\n",
    "sys.path.append(module_path)"
   ]
  },
  {
   "cell_type": "markdown",
   "metadata": {
    "id": "p4W6FPnrYEE8"
   },
   "source": [
    "### 🔗 **Connect Your Google Cloud Project**\n",
    "Time to connect your Google Cloud Project to this notebook. "
   ]
  },
  {
   "cell_type": "code",
   "execution_count": 1,
   "metadata": {},
   "outputs": [
    {
     "name": "stdout",
     "output_type": "stream",
     "text": [
      "Your browser has been opened to visit:\n",
      "\n",
      "    https://accounts.google.com/o/oauth2/auth?response_type=code&client_id=32555940559.apps.googleusercontent.com&redirect_uri=http%3A%2F%2Flocalhost%3A8085%2F&scope=openid+https%3A%2F%2Fwww.googleapis.com%2Fauth%2Fuserinfo.email+https%3A%2F%2Fwww.googleapis.com%2Fauth%2Fcloud-platform+https%3A%2F%2Fwww.googleapis.com%2Fauth%2Fappengine.admin+https%3A%2F%2Fwww.googleapis.com%2Fauth%2Fsqlservice.login+https%3A%2F%2Fwww.googleapis.com%2Fauth%2Fcompute+https%3A%2F%2Fwww.googleapis.com%2Fauth%2Faccounts.reauth&state=3TigIcdNf7iqxQvS2rCME4BbUmJuGZ&access_type=offline&code_challenge=Gxsf0-crZiUqh0OBFY5ZsSCtk7APFiyXVGnr3Yoqn2A&code_challenge_method=S256\n",
      "\n",
      "\n",
      "You are now logged in as [mg220200884@gmail.com].\n",
      "Your current project is [fourth-ability-397214].  You can change this setting by running:\n",
      "  $ gcloud config set project PROJECT_ID\n",
      "Your browser has been opened to visit:\n",
      "\n",
      "    https://accounts.google.com/o/oauth2/auth?response_type=code&client_id=764086051850-6qr4p6gpi6hn506pt8ejuq83di341hur.apps.googleusercontent.com&redirect_uri=http%3A%2F%2Flocalhost%3A8085%2F&scope=openid+https%3A%2F%2Fwww.googleapis.com%2Fauth%2Fuserinfo.email+https%3A%2F%2Fwww.googleapis.com%2Fauth%2Fcloud-platform+https%3A%2F%2Fwww.googleapis.com%2Fauth%2Fsqlservice.login&state=kbLgY3AhinOscYe7bITWs1w3DkBG0u&access_type=offline&code_challenge=_TDDi1JzLusvmpGvCuKYxS-gzWUXW8XBWK1NFz0WrJA&code_challenge_method=S256\n",
      "\n",
      "\n",
      "Credentials saved to file: [/Users/guomohan/.config/gcloud/application_default_credentials.json]\n",
      "\n",
      "These credentials will be used by any library that requests Application Default Credentials (ADC).\n",
      "\n",
      "Quota project \"fourth-ability-397214\" was added to ADC which can be used by Google client libraries for billing and quota. Note that some services may still bill the project owning the resource.\n",
      "\u001b[1;31mERROR:\u001b[0m (gcloud.services.enable) [mg220200884@gmail.com] does not have permission to access projects instance [dataqna-443510] (or it may not exist): Permission denied to enable service [serviceusage.googleapis.com]\n",
      "Permission denied to enable service [cloudresourcemanager.googleapis.com]\n",
      "Help Token: Ab6lFGcDdtJQeoICWUETKLPUgeJANPDQ9i8Fga1F0uLUiwNcdaOwXtHPIBZGoUhGR1yNI_iY3W7wA2EV538FEEjX9-_nVjERP6uN-mknMd49PAGu. This command is authenticated as mg220200884@gmail.com which is the active account specified by the [core/account] property\n",
      "- '@type': type.googleapis.com/google.rpc.PreconditionFailure\n",
      "  violations:\n",
      "  - subject: ?error_code=110002&service=serviceusage.googleapis.com&permission=serviceusage.services.enable&resource=dataqna-443510\n",
      "    type: googleapis.com\n",
      "- '@type': type.googleapis.com/google.rpc.ErrorInfo\n",
      "  domain: serviceusage.googleapis.com\n",
      "  metadata:\n",
      "    permission: serviceusage.services.enable\n",
      "    resource: dataqna-443510\n",
      "    service: serviceusage.googleapis.com\n",
      "  reason: AUTH_PERMISSION_DENIED\n"
     ]
    }
   ],
   "source": [
    "!gcloud auth login  # Use this or below command to authenticate\n",
    "\n",
    "!gcloud auth application-default login\n",
    "\n",
    "!gcloud services enable \\\n",
    "    serviceusage.googleapis.com \\\n",
    "    cloudresourcemanager.googleapis.com --project dataqna-443510"
   ]
  },
  {
   "cell_type": "code",
   "execution_count": 4,
   "metadata": {},
   "outputs": [
    {
     "name": "stdout",
     "output_type": "stream",
     "text": [
      "Updated property [core/project].\n",
      "Project has been set to fourth-ability-397214\n"
     ]
    }
   ],
   "source": [
    "#@markdown Please fill in the value below with your GCP project ID and then run the cell.\n",
    "PROJECT_ID = \"fourth-ability-397214\"\n",
    "\n",
    "# Quick input validations.\n",
    "assert PROJECT_ID, \"⚠️ Please provide your Google Cloud Project ID\"\n",
    "\n",
    "# Configure gcloud.\n",
    "!gcloud config set project {PROJECT_ID}\n",
    "print(f'Project has been set to {PROJECT_ID}')\n",
    "\n",
    "os.environ['GOOGLE_CLOUD_QUOTA_PROJECT']=PROJECT_ID\n",
    "os.environ['GOOGLE_CLOUD_PROJECT']=PROJECT_ID\n",
    "\n",
    "#If errors out for authentication restart the kernel and start from the previous cell"
   ]
  },
  {
   "cell_type": "markdown",
   "metadata": {},
   "source": [
    "### ⚙️ **Enable Required API Services in the GCP Project**"
   ]
  },
  {
   "cell_type": "code",
   "execution_count": 5,
   "metadata": {},
   "outputs": [
    {
     "name": "stdout",
     "output_type": "stream",
     "text": [
      "Operation \"operations/acat.p2-631865913009-776ffef5-0bff-4a62-bd59-a4181ca1d3db\" finished successfully.\n"
     ]
    }
   ],
   "source": [
    "#Enable all the required APIs for the Open Data QnA solution\n",
    "\n",
    "!gcloud services enable \\\n",
    "  cloudapis.googleapis.com \\\n",
    "  compute.googleapis.com \\\n",
    "  iam.googleapis.com \\\n",
    "  run.googleapis.com \\\n",
    "  sqladmin.googleapis.com \\\n",
    "  aiplatform.googleapis.com \\\n",
    "  bigquery.googleapis.com \\\n",
    "  firestore.googleapis.com --project {PROJECT_ID}"
   ]
  },
  {
   "cell_type": "markdown",
   "metadata": {},
   "source": [
    "## **Configure your inputs for the environments**\n",
    "\n",
    "This section assumes that a datasource is already set up in your GCP project. If a datasource has not been set up, use the notebooks below to copy a public data set from BigQuery to Cloud SQL or BigQuery on your GCP project\n",
    "\n",
    "\n",
    "Enabled Data Sources:\n",
    "* PostgreSQL on Google Cloud SQL (Copy Sample Data: [0_CopyDataToCloudSqlPG.ipynb](0_CopyDataToCloudSqlPG.ipynb))\n",
    "* BigQuery (Copy Sample Data: [0_CopyDataToBigQuery.ipynb](0_CopyDataToBigQuery.ipynb))\n",
    "\n",
    "Enabled Vector Stores:\n",
    "* pgvector on PostgreSQL \n",
    "* BigQuery vector\n"
   ]
  },
  {
   "cell_type": "markdown",
   "metadata": {},
   "source": [
    "### 🤔 **Choose Data Source and Vector Store**"
   ]
  },
  {
   "cell_type": "markdown",
   "metadata": {},
   "source": [
    "**Sources to connect**\n",
    "- This solution lets you setup multiple data source at the same time.\n",
    "- You can group multiple tables from different datasets or schema into a grouping and provide the details\n",
    "- If your dataset/schema has many tables and you want to run the solution against few you should specifically choose a group for that tables only\n",
    "\n",
    "**Format for data_source_list.csv**\n",
    "\n",
    "**source | user_grouping | schema | table**\n",
    "\n",
    "**source** - Supported Data Sources. #Options: bigquery , cloudsql-pg\n",
    "\n",
    "**user_grouping** - Logical grouping or use case name for tables from same or different schema/dataset. When left black it default to the schema value in the next column\n",
    "\n",
    "**schema** - schema name for postgres or dataset name in bigquery \n",
    "\n",
    "**table** - name of the tables to run the solutions against. Leave this column blank after filling schema/dataset if you want to run solution for whole dataset/schema\n"
   ]
  },
  {
   "cell_type": "markdown",
   "metadata": {},
   "source": [
    "Fill out the parameters and configuration settings below. \n",
    "These are the parameters for setting configurations for the vector store tables to be created. \n",
    "\n",
    "Additionally, you can specify whether you have and want to use known-good-queries for the pipeline run and whether you want to enable logging.\n",
    "\n",
    "**Known good queries:** if you have known working user question <-> SQL query pairs, you can put them into the file `scripts/known_good_sql.csv`. This will be used as a caching layer and for in-context learning: If an exact match of the user question is found in the vector store, the pipeline will skip SQL Generation and output the cached SQL query. If the similarity score is between 90-100%, the known good queries will be used as few-shot examples by the SQL Generator Agent. \n",
    "\n",
    "**Logging:** you can enable logging. If enabled, a dataset is created in Big Query in your project, which will store the logging table and save information from the pipeline run in the logging table. This is especially helpful for debugging.\n",
    "\n",
    "**use_column_samples:** you can enable use column samples flag to let the pipeline select sample values of the columns from the source database. In some specific usecase where we need to understand the format or case sensitivity of the values this flag help LLM to have better understanding. Though this is one time setup, please be aware that turning this on mean getting samples from each column and it can be an expensive operation when there are lot many columns."
   ]
  },
  {
   "cell_type": "code",
   "execution_count": 6,
   "metadata": {},
   "outputs": [],
   "source": [
    "#[CONFIG]\n",
    "embedding_model = 'vertex' # Options: 'vertex' or 'vertex-lang'\n",
    "description_model = 'gemini-1.0-pro' # 'gemini-1.0-pro', 'gemini-1.5-pro', 'text-bison-32k', 'gemini-1.5-flash'\n",
    "vector_store = 'bigquery-vector' # Options: 'bigquery-vector', 'cloudsql-pgvector'\n",
    "logging = True # True or False \n",
    "kgq_examples = True # True or False\n",
    "use_session_history = True # True or False\n",
    "use_column_samples = True #True or False\n",
    "\n",
    "#[GCP]\n",
    "project_id = PROJECT_ID\n",
    "\n",
    "#[PGCLOUDSQL]\n",
    "# Default values for pgvector setup, change only if needed\n",
    "pg_region = 'europe-west4'\n",
    "pg_instance = 'pg15-opendataqna'\n",
    "pg_database = 'opendataqna-db'\n",
    "pg_user = 'pguser'\n",
    "pg_password = 'pg123'\n",
    "use_pg = False\n",
    "if use_pg == False:\n",
    "    pg_region = None\n",
    "    pg_instance = None\n",
    "    pg_database = None\n",
    "    pg_user = None\n",
    "    pg_password = None\n",
    "\n",
    "#[BIGQUERY]\n",
    "# Name for the BQ dataset created for bigquery-vector and/or logging. Change names only if needed.\n",
    "bq_dataset_region = 'europe-west4'\n",
    "bq_opendataqna_dataset_name = 'opendataqna'\n",
    "bq_log_table_name = 'audit_log_table'\n",
    "\n",
    "#Details for firestore to store the chat session history\n",
    "firestore_region='europe-west4'\n",
    "## firestore_database is named as 'opendataqna-session-logs' (This is designed to not be customizable as the setup includes creation of composite indexes from backend)"
   ]
  },
  {
   "cell_type": "code",
   "execution_count": 6,
   "metadata": {},
   "outputs": [],
   "source": [
    "# Known good queries\n",
    "\n",
    "# Logging\n",
    "\n",
    "# use_column_samples\n",
    "\n",
    "# "
   ]
  },
  {
   "cell_type": "markdown",
   "metadata": {},
   "source": [
    "Fill out the parameters and configuration settings below.\n",
    "These are the parameters for setting configurations for the vector store tables to be created.\n",
    "\n",
    "Additionally, you can specify whether you have and want to use known-good-queries for the pipeline run and whether you want to enable logging.\n",
    "\n",
    "**Known good queries:** if you have known working user question <-> SQL query pairs, you can put them into the file `scripts/known_good_sql.csv`. This will be used as a caching layer and for in-context learning: If an exact match of the user question is found in the vector store, the pipeline will skip SQL Generation and output the cached SQL query. If the similarity score is between 90-100%, the known good queries will be used as few-shot examples by the SQL Generator Agent.\n",
    "\n",
    "**Logging:** you can enable logging. If enabled, a dataset is created in Big Query in your project, which will store the logging table and save information from the pipeline run in the logging table. This is especially helpful for debugging.\n",
    "\n",
    "**use_column_samples = yes** if you want the solution to collect some samples values from the data source columns to imporve understanding of values. yes or no\n",
    "\n",
    "**use_column_samples:** you can enable use column samples flag to let the pipeline select sample values of the columns from the source database. In some specific usecase where we need to understand the format or case sensitivity of the values this flag help LLM to have better understanding. Though this is one time setup, please be aware that turning this on mean getting samples from each column and it can be an expensive operation when there are lot many columns."
   ]
  },
  {
   "cell_type": "markdown",
   "metadata": {},
   "source": [
    "Quick input verifications below:"
   ]
  },
  {
   "cell_type": "code",
   "execution_count": 7,
   "metadata": {},
   "outputs": [],
   "source": [
    "\n",
    "# Input verification - Vector Store\n",
    "assert vector_store in {'bigquery-vector', 'cloudsql-pgvector'}, \"⚠️ Invalid VECTOR_STORE. Must be 'bigquery-vector' or 'cloudsql-pgvector'\"\n",
    "\n",
    "# Input verification - Firestore Region\n",
    "assert firestore_region, \"⚠️ Provide firestore region name\"\n",
    "\n",
    "if logging: \n",
    "    assert bq_log_table_name, \"⚠️ Please provide a name for your log table if you want to use logging\"\n",
    "\n",
    "if vector_store == 'bigquery':\n",
    "    assert bq_dataset_region, \"⚠️ Please provide the Data Set Region\"\n",
    "    assert bq_opendataqna_dataset_name, \"⚠️ Please provide the name of the logging/vector store dataset on Bigquery\"\n",
    "\n",
    "elif vector_store == 'cloudsql-pg':\n",
    "    assert pg_region, \"⚠️ Please provide Region of the Cloud SQL Instance\"\n",
    "    assert pg_instance, \"⚠️ Please provide the name of the Cloud SQL Instance\"\n",
    "    assert pg_database, \"⚠️ Please provide the name of the PostgreSQL Database on the Cloud SQL Instance\"\n",
    "    assert pg_user, \"⚠️ Please provide a username for the Cloud SQL Instance\"\n",
    "    assert pg_password, \"⚠️ Please provide the Password for the PG_USER\"\n"
   ]
  },
  {
   "cell_type": "markdown",
   "metadata": {},
   "source": [
    "### 💾 **Save Configuration to File** \n",
    "Save the configurations set in this notebook to  `config.ini`. The parameters from this file are used in notebooks and in various modeules in the repo"
   ]
  },
  {
   "cell_type": "code",
   "execution_count": 8,
   "metadata": {},
   "outputs": [
    {
     "name": "stdout",
     "output_type": "stream",
     "text": [
      "current dir:  /Users/guomohan/Dev/OpenDataQnA/Open_Data_QnA/notebooks\n",
      "All configuration paramaters saved to file!\n"
     ]
    }
   ],
   "source": [
    "from scripts import save_config\n",
    "\n",
    "save_config(embedding_model, description_model, vector_store, logging, kgq_examples, _, use_column_samples, PROJECT_ID,\n",
    "            pg_region, pg_instance, pg_database, pg_user, pg_password, \n",
    "            bq_dataset_region, bq_opendataqna_dataset_name, bq_log_table_name,firestore_region)"
   ]
  },
  {
   "cell_type": "markdown",
   "metadata": {},
   "source": [
    "# **1. Vector Store Setup** (Run once)\n",
    "---\n",
    "\n",
    "This section walks through the Vector Store Setup needed for running the Open Data QnA application. \n",
    "\n",
    "It covers the following steps: \n",
    "> 1. Configuration: Environment and Databases setup including logging on Bigquery for analytics\n",
    "\n",
    "> 2. Creation of Table, Column and Known Good Query Embeddings in the Vector Store  for Retreival Augmented Generation(RAG)\n",
    "\n",
    "\n"
   ]
  },
  {
   "cell_type": "markdown",
   "metadata": {},
   "source": [
    "## ⚙️ **1.1 Database Setup for Vector Store**\n",
    "\n",
    "If BigQuery is your vector store, the dataset is created.\n",
    "\n",
    "If 'cloudsql-pgvector' is chosen as vector store, PostgreSQL Instance on CloudSQL (Note that this version of code supports only creating vector store on same instance as source)\n",
    "\n",
    "The cell will also create a dataset to store the log table on Big Query, **if** logging is enabled if its not bigquery vector."
   ]
  },
  {
   "cell_type": "code",
   "execution_count": 9,
   "metadata": {},
   "outputs": [
    {
     "name": "stdout",
     "output_type": "stream",
     "text": [
      "current dir:  /Users/guomohan/Dev/OpenDataQnA/Open_Data_QnA/notebooks\n",
      "root_dir set to: /Users/guomohan/Dev/OpenDataQnA/Open_Data_QnA\n",
      "Initializing environment setup.\n",
      "Loading configurations from config.ini file.\n",
      "Vector Store source set to:  bigquery-vector\n",
      "Logging is enabled\n",
      "Vector store set to 'bigquery-vector'\n",
      "Generating Big Query dataset opendataqna\n",
      "Destination Dataset exists\n"
     ]
    }
   ],
   "source": [
    "from env_setup import create_vector_store\n",
    "# Setup vector store for embeddings\n",
    "create_vector_store()  \n"
   ]
  },
  {
   "cell_type": "markdown",
   "metadata": {},
   "source": [
    "##  **1.2 Create Embeddings in Vector Store for RAG** "
   ]
  },
  {
   "cell_type": "markdown",
   "metadata": {},
   "source": [
    "### 🖋️ **Create Table and Column Embeddings**\n",
    "\n",
    "In this step, table and column metadata is retreived from the data source and embeddings are generated for both"
   ]
  },
  {
   "cell_type": "code",
   "execution_count": 10,
   "metadata": {},
   "outputs": [],
   "source": [
    "# from google.cloud import bigquery\n",
    "\n",
    "# # 初始化客户端\n",
    "# client = bigquery.Client()\n",
    "\n",
    "# # 构建表的引用\n",
    "# table_ref = client.dataset('opendataqna').table('data_test')\n",
    "\n",
    "# try:\n",
    "#     # 获取表的信息\n",
    "#     table = client.get_table(table_ref)\n",
    "    \n",
    "#     # 打印表的基本信息\n",
    "#     print(\"表信息：\")\n",
    "#     print(f\"行数: {table.num_rows}\")\n",
    "#     print(f\"列数: {len(table.schema)}\")\n",
    "#     print(\"\\n列结构：\")\n",
    "#     for field in table.schema:\n",
    "#         print(f\"{field.name}: {field.field_type}\")\n",
    "        \n",
    "# except Exception as e:\n",
    "#     print(\"访问表时出错：\")\n",
    "#     print(e)"
   ]
  },
  {
   "cell_type": "code",
   "execution_count": 11,
   "metadata": {},
   "outputs": [
    {
     "name": "stdout",
     "output_type": "stream",
     "text": [
      "Generating embeddings from source db schemas\n",
      "Source Found at Path :: /Users/guomohan/Dev/OpenDataQnA/Open_Data_QnA/scripts/data_source_list.csv\n",
      "The Embeddings are extracted for the below combinations\n",
      "     source       schema    table\n",
      "0  bigquery  opendataqna  [test6]\n",
      "\n",
      "\n",
      "\n",
      "Generated table description for opendataqna.test6\n",
      "LLM generated 1 Table Descriptions\n",
      "\n",
      "\n",
      "\n",
      "Generated column description for opendataqna.test6.Account\n",
      "Generated column description for opendataqna.test6.AdServing_Model__c\n",
      "Generated column description for opendataqna.test6.Ad_Serving_Costs\n",
      "Generated column description for opendataqna.test6.Audience\n",
      "Generated column description for opendataqna.test6.Campaign\n",
      "Generated column description for opendataqna.test6.Channel_factory_Amount__c\n",
      "Generated column description for opendataqna.test6.Cost_To_Client\n",
      "Generated column description for opendataqna.test6.Cost_To_Client_Actual\n",
      "Generated column description for opendataqna.test6.Data_Costs\n",
      "Generated column description for opendataqna.test6.Data_Fee_Amount__c\n",
      "Generated column description for opendataqna.test6.Delivered_Unit_Quantity\n",
      "Generated column description for opendataqna.test6.Domain_Format__c\n",
      "Generated column description for opendataqna.test6.Domain_Objective__c\n",
      "Generated column description for opendataqna.test6.Domain_Record_Type__c\n",
      "Generated column description for opendataqna.test6.End_date\n",
      "Generated column description for opendataqna.test6.General_Fee_amount__c\n",
      "Generated column description for opendataqna.test6.KPI__c\n",
      "Generated column description for opendataqna.test6.Manpower_Fee_amount__c\n",
      "Generated column description for opendataqna.test6.Media_Budget\n",
      "Generated column description for opendataqna.test6.Netto_Price_per_unit__c\n",
      "Generated column description for opendataqna.test6.Planned_Ad_Serving_Costs__c\n",
      "Generated column description for opendataqna.test6.Planned_Clicks_Open__c\n",
      "Generated column description for opendataqna.test6.Planned_Completed_Views_Open__c\n",
      "Generated column description for opendataqna.test6.Planned_Engagements_Open__c\n",
      "Generated column description for opendataqna.test6.Planned_Impressions_Open__c\n",
      "Generated column description for opendataqna.test6.Planned_KPI__c\n",
      "Generated column description for opendataqna.test6.Planned_Leads_Open__c\n",
      "Generated column description for opendataqna.test6.Planned_Unit_Price__c\n",
      "Generated column description for opendataqna.test6.Planned_Unit_Quantity__c\n",
      "Generated column description for opendataqna.test6.Planned_Views_Open__c\n",
      "Generated column description for opendataqna.test6.Pricing_Model__c\n",
      "Generated column description for opendataqna.test6.Publisher_Service_Descrip__c\n",
      "Generated column description for opendataqna.test6.Remarks\n",
      "Generated column description for opendataqna.test6.SF_ID\n",
      "Generated column description for opendataqna.test6.Service_Description__c\n",
      "Generated column description for opendataqna.test6.Start_date\n",
      "Generated column description for opendataqna.test6.Technical_Fee_amount__c\n",
      "Generated column description for opendataqna.test6.adserver_clicks\n",
      "Generated column description for opendataqna.test6.adserver_impressions\n",
      "Generated column description for opendataqna.test6.c_number\n",
      "Generated column description for opendataqna.test6.clicks\n",
      "Generated column description for opendataqna.test6.completedviews\n",
      "Generated column description for opendataqna.test6.conversiontype\n",
      "Generated column description for opendataqna.test6.costs\n",
      "Generated column description for opendataqna.test6.costs_ctc\n",
      "Generated column description for opendataqna.test6.date\n",
      "Generated column description for opendataqna.test6.ds_number\n",
      "Generated column description for opendataqna.test6.engagements\n",
      "Generated column description for opendataqna.test6.fallback_config\n",
      "Generated column description for opendataqna.test6.hardconversions\n",
      "Generated column description for opendataqna.test6.impressions\n",
      "Generated column description for opendataqna.test6.leads\n",
      "Generated column description for opendataqna.test6.softconversions\n",
      "Generated column description for opendataqna.test6.source\n",
      "Generated column description for opendataqna.test6.views\n",
      "LLM generated 55 Column Descriptions\n",
      "Table and Column embeddings are created\n"
     ]
    }
   ],
   "source": [
    "from env_setup import get_embeddings\n",
    "\n",
    "# Generate embeddings for tables and columns\n",
    "table_schema_embeddings, col_schema_embeddings = get_embeddings()\n"
   ]
  },
  {
   "cell_type": "code",
   "execution_count": 15,
   "metadata": {},
   "outputs": [
    {
     "name": "stdout",
     "output_type": "stream",
     "text": [
      "   source_type table_schema table_name                      column_name  \\\n",
      "0     bigquery  opendataqna      test6                          Account   \n",
      "1     bigquery  opendataqna      test6               AdServing_Model__c   \n",
      "2     bigquery  opendataqna      test6                 Ad_Serving_Costs   \n",
      "3     bigquery  opendataqna      test6                         Audience   \n",
      "4     bigquery  opendataqna      test6                         Campaign   \n",
      "5     bigquery  opendataqna      test6        Channel_factory_Amount__c   \n",
      "6     bigquery  opendataqna      test6                   Cost_To_Client   \n",
      "7     bigquery  opendataqna      test6            Cost_To_Client_Actual   \n",
      "8     bigquery  opendataqna      test6                       Data_Costs   \n",
      "9     bigquery  opendataqna      test6               Data_Fee_Amount__c   \n",
      "10    bigquery  opendataqna      test6          Delivered_Unit_Quantity   \n",
      "11    bigquery  opendataqna      test6                 Domain_Format__c   \n",
      "12    bigquery  opendataqna      test6              Domain_Objective__c   \n",
      "13    bigquery  opendataqna      test6            Domain_Record_Type__c   \n",
      "14    bigquery  opendataqna      test6                         End_date   \n",
      "15    bigquery  opendataqna      test6            General_Fee_amount__c   \n",
      "16    bigquery  opendataqna      test6                           KPI__c   \n",
      "17    bigquery  opendataqna      test6           Manpower_Fee_amount__c   \n",
      "18    bigquery  opendataqna      test6                     Media_Budget   \n",
      "19    bigquery  opendataqna      test6          Netto_Price_per_unit__c   \n",
      "20    bigquery  opendataqna      test6      Planned_Ad_Serving_Costs__c   \n",
      "21    bigquery  opendataqna      test6           Planned_Clicks_Open__c   \n",
      "22    bigquery  opendataqna      test6  Planned_Completed_Views_Open__c   \n",
      "23    bigquery  opendataqna      test6      Planned_Engagements_Open__c   \n",
      "24    bigquery  opendataqna      test6      Planned_Impressions_Open__c   \n",
      "25    bigquery  opendataqna      test6                   Planned_KPI__c   \n",
      "26    bigquery  opendataqna      test6            Planned_Leads_Open__c   \n",
      "27    bigquery  opendataqna      test6            Planned_Unit_Price__c   \n",
      "28    bigquery  opendataqna      test6         Planned_Unit_Quantity__c   \n",
      "29    bigquery  opendataqna      test6            Planned_Views_Open__c   \n",
      "30    bigquery  opendataqna      test6                 Pricing_Model__c   \n",
      "31    bigquery  opendataqna      test6     Publisher_Service_Descrip__c   \n",
      "32    bigquery  opendataqna      test6                          Remarks   \n",
      "33    bigquery  opendataqna      test6                            SF_ID   \n",
      "34    bigquery  opendataqna      test6           Service_Description__c   \n",
      "35    bigquery  opendataqna      test6                       Start_date   \n",
      "36    bigquery  opendataqna      test6          Technical_Fee_amount__c   \n",
      "37    bigquery  opendataqna      test6                  adserver_clicks   \n",
      "38    bigquery  opendataqna      test6             adserver_impressions   \n",
      "39    bigquery  opendataqna      test6                         c_number   \n",
      "40    bigquery  opendataqna      test6                           clicks   \n",
      "41    bigquery  opendataqna      test6                   completedviews   \n",
      "42    bigquery  opendataqna      test6                   conversiontype   \n",
      "43    bigquery  opendataqna      test6                            costs   \n",
      "44    bigquery  opendataqna      test6                        costs_ctc   \n",
      "45    bigquery  opendataqna      test6                             date   \n",
      "46    bigquery  opendataqna      test6                        ds_number   \n",
      "47    bigquery  opendataqna      test6                      engagements   \n",
      "48    bigquery  opendataqna      test6                  fallback_config   \n",
      "49    bigquery  opendataqna      test6                  hardconversions   \n",
      "50    bigquery  opendataqna      test6                      impressions   \n",
      "51    bigquery  opendataqna      test6                            leads   \n",
      "52    bigquery  opendataqna      test6                  softconversions   \n",
      "53    bigquery  opendataqna      test6                           source   \n",
      "54    bigquery  opendataqna      test6                            views   \n",
      "\n",
      "                                              content  \\\n",
      "0   \\n            Column Name: opendataqna.test6.A...   \n",
      "1   \\n            Column Name: opendataqna.test6.A...   \n",
      "2   \\n            Column Name: opendataqna.test6.A...   \n",
      "3   \\n            Column Name: opendataqna.test6.A...   \n",
      "4   \\n            Column Name: opendataqna.test6.C...   \n",
      "5   \\n            Column Name: opendataqna.test6.C...   \n",
      "6   \\n            Column Name: opendataqna.test6.C...   \n",
      "7   \\n            Column Name: opendataqna.test6.C...   \n",
      "8   \\n            Column Name: opendataqna.test6.D...   \n",
      "9   \\n            Column Name: opendataqna.test6.D...   \n",
      "10  \\n            Column Name: opendataqna.test6.D...   \n",
      "11  \\n            Column Name: opendataqna.test6.D...   \n",
      "12  \\n            Column Name: opendataqna.test6.D...   \n",
      "13  \\n            Column Name: opendataqna.test6.D...   \n",
      "14  \\n            Column Name: opendataqna.test6.E...   \n",
      "15  \\n            Column Name: opendataqna.test6.G...   \n",
      "16  \\n            Column Name: opendataqna.test6.K...   \n",
      "17  \\n            Column Name: opendataqna.test6.M...   \n",
      "18  \\n            Column Name: opendataqna.test6.M...   \n",
      "19  \\n            Column Name: opendataqna.test6.N...   \n",
      "20  \\n            Column Name: opendataqna.test6.P...   \n",
      "21  \\n            Column Name: opendataqna.test6.P...   \n",
      "22  \\n            Column Name: opendataqna.test6.P...   \n",
      "23  \\n            Column Name: opendataqna.test6.P...   \n",
      "24  \\n            Column Name: opendataqna.test6.P...   \n",
      "25  \\n            Column Name: opendataqna.test6.P...   \n",
      "26  \\n            Column Name: opendataqna.test6.P...   \n",
      "27  \\n            Column Name: opendataqna.test6.P...   \n",
      "28  \\n            Column Name: opendataqna.test6.P...   \n",
      "29  \\n            Column Name: opendataqna.test6.P...   \n",
      "30  \\n            Column Name: opendataqna.test6.P...   \n",
      "31  \\n            Column Name: opendataqna.test6.P...   \n",
      "32  \\n            Column Name: opendataqna.test6.R...   \n",
      "33  \\n            Column Name: opendataqna.test6.S...   \n",
      "34  \\n            Column Name: opendataqna.test6.S...   \n",
      "35  \\n            Column Name: opendataqna.test6.S...   \n",
      "36  \\n            Column Name: opendataqna.test6.T...   \n",
      "37  \\n            Column Name: opendataqna.test6.a...   \n",
      "38  \\n            Column Name: opendataqna.test6.a...   \n",
      "39  \\n            Column Name: opendataqna.test6.c...   \n",
      "40  \\n            Column Name: opendataqna.test6.c...   \n",
      "41  \\n            Column Name: opendataqna.test6.c...   \n",
      "42  \\n            Column Name: opendataqna.test6.c...   \n",
      "43  \\n            Column Name: opendataqna.test6.c...   \n",
      "44  \\n            Column Name: opendataqna.test6.c...   \n",
      "45  \\n            Column Name: opendataqna.test6.d...   \n",
      "46  \\n            Column Name: opendataqna.test6.d...   \n",
      "47  \\n            Column Name: opendataqna.test6.e...   \n",
      "48  \\n            Column Name: opendataqna.test6.f...   \n",
      "49  \\n            Column Name: opendataqna.test6.h...   \n",
      "50  \\n            Column Name: opendataqna.test6.i...   \n",
      "51  \\n            Column Name: opendataqna.test6.l...   \n",
      "52  \\n            Column Name: opendataqna.test6.s...   \n",
      "53  \\n            Column Name: opendataqna.test6.s...   \n",
      "54  \\n            Column Name: opendataqna.test6.v...   \n",
      "\n",
      "                                            embedding user_grouping  \n",
      "0   [0.02637690305709839, 0.052784744650125504, -0...            OD  \n",
      "1   [0.024975448846817017, 0.047738540917634964, -...            OD  \n",
      "2   [0.05340515822172165, -0.006280967034399509, -...            OD  \n",
      "3   [0.018243154510855675, 0.07534704357385635, -0...            OD  \n",
      "4   [0.023751817643642426, 0.05816713720560074, -0...            OD  \n",
      "5   [0.048922646790742874, 0.007779665291309357, -...            OD  \n",
      "6   [-0.0069977599196136, 0.03425518423318863, -0....            OD  \n",
      "7   [0.05156935378909111, 0.018953397870063782, -0...            OD  \n",
      "8   [0.01348781120032072, 0.060986656695604324, -0...            OD  \n",
      "9   [0.06329252570867538, 0.028609147295355797, -0...            OD  \n",
      "10  [0.058165598660707474, 0.058966122567653656, -...            OD  \n",
      "11  [-0.004669477231800556, 0.07106710970401764, -...            OD  \n",
      "12  [0.014086226932704449, 0.08704815804958344, -0...            OD  \n",
      "13  [-0.01612439565360546, 0.07502685487270355, -0...            OD  \n",
      "14  [0.058543432503938675, 0.09638369828462601, -0...            OD  \n",
      "15  [0.05570206046104431, 0.02949436381459236, -0....            OD  \n",
      "16  [0.015666808933019638, 0.03877153992652893, -0...            OD  \n",
      "17  [0.05215371400117874, 0.006257185712456703, -0...            OD  \n",
      "18  [0.02890724316239357, 0.035923562943935394, -0...            OD  \n",
      "19  [0.026093725115060806, 0.04282742366194725, -0...            OD  \n",
      "20  [0.06293344497680664, 0.04623237997293472, -0....            OD  \n",
      "21  [0.03739284351468086, 0.07877808064222336, -0....            OD  \n",
      "22  [0.03199309855699539, 0.044079892337322235, -0...            OD  \n",
      "23  [0.031827300786972046, 0.06836961954832077, -0...            OD  \n",
      "24  [0.040535904467105865, 0.053517378866672516, -...            OD  \n",
      "25  [0.03339986130595207, 0.04876621440052986, -0....            OD  \n",
      "26  [0.036364562809467316, 0.04219366982579231, -0...            OD  \n",
      "27  [0.052213821560144424, 0.024259697645902634, -...            OD  \n",
      "28  [0.03468392416834831, 0.062464822083711624, -0...            OD  \n",
      "29  [0.04079144820570946, 0.06477300822734833, -0....            OD  \n",
      "30  [0.03066657856106758, 0.04517172649502754, -0....            OD  \n",
      "31  [-0.02742520160973072, 0.05518224090337753, -0...            OD  \n",
      "32  [-0.006774689070880413, 0.03491967171430588, -...            OD  \n",
      "33  [0.02490345574915409, 0.08636036515235901, -0....            OD  \n",
      "34  [-0.024054834619164467, 0.06290173530578613, -...            OD  \n",
      "35  [0.051665324717760086, 0.09010957181453705, -0...            OD  \n",
      "36  [0.0673699676990509, 0.0002641281462274492, -0...            OD  \n",
      "37  [0.05612441897392273, 0.0575554184615612, -0.0...            OD  \n",
      "38  [0.013267586939036846, 0.07664202153682709, -0...            OD  \n",
      "39  [0.03082136996090412, 0.09066476672887802, -0....            OD  \n",
      "40  [0.04262249544262886, 0.053615473210811615, -0...            OD  \n",
      "41  [0.028859581798315048, 0.03175364434719086, -0...            OD  \n",
      "42  [-0.002010499592870474, 0.0723356083035469, -0...            OD  \n",
      "43  [0.03950287774205208, 0.01695389859378338, -0....            OD  \n",
      "44  [0.03577075153589249, 0.014399495907127857, -0...            OD  \n",
      "45  [0.044545721262693405, 0.08016140758991241, -0...            OD  \n",
      "46  [0.03641927242279053, 0.08444979786872864, -0....            OD  \n",
      "47  [0.06137332692742348, 0.04083181917667389, -0....            OD  \n",
      "48  [0.07614780962467194, 0.03688162937760353, -0....            OD  \n",
      "49  [0.03412725776433945, 0.04771032556891441, -0....            OD  \n",
      "50  [0.02996683120727539, 0.05233026295900345, -0....            OD  \n",
      "51  [0.0551944337785244, 0.03941667452454567, -0.0...            OD  \n",
      "52  [0.007549951318651438, 0.0492536798119545, -0....            OD  \n",
      "53  [0.06118682026863098, 0.03114381618797779, -0....            OD  \n",
      "54  [0.034857165068387985, 0.03497791290283203, -0...            OD  \n"
     ]
    }
   ],
   "source": [
    "print(col_schema_embeddings)"
   ]
  },
  {
   "cell_type": "markdown",
   "metadata": {},
   "source": [
    "### 💾 **Save the Table and Column Embeddings in the Vector Store**\n",
    "The table and column embeddings created in the above step are save to the Vector Store chosen"
   ]
  },
  {
   "cell_type": "code",
   "execution_count": 12,
   "metadata": {},
   "outputs": [
    {
     "name": "stdout",
     "output_type": "stream",
     "text": [
      "Storing embeddings back to the vector store.\n",
      "Table and Column embeddings are saved to vector store\n"
     ]
    }
   ],
   "source": [
    "from env_setup import store_embeddings\n",
    "\n",
    "# Store table/column embeddings (asynchronous)\n",
    "await(store_embeddings(table_schema_embeddings, col_schema_embeddings))\n"
   ]
  },
  {
   "cell_type": "markdown",
   "metadata": {},
   "source": [
    "# **2. Firestore Database Setup**\n",
    "---\n",
    "\n",
    "This section walks through setting up the firestore DB to store the session history of the conversation for multiturn\n",
    "\n",
    "It covers the following steps: \n",
    "> 1. Creation Firestore Database\n",
    "\n"
   ]
  },
  {
   "cell_type": "code",
   "execution_count": 13,
   "metadata": {},
   "outputs": [
    {
     "name": "stdout",
     "output_type": "stream",
     "text": [
      "Found existing Firestore database with this name already!\n"
     ]
    }
   ],
   "source": [
    "from env_setup import create_firestore_db\n",
    "\n",
    "create_firestore_db(firestore_region)"
   ]
  },
  {
   "cell_type": "markdown",
   "metadata": {},
   "source": [
    "## 🗄️ **3. Load Known Good SQL into Vector Store**\n",
    "Known Good Queries are used to create query cache for Few shot examples. Creating a query cache is highly recommended for best outcomes! \n",
    "\n",
    "The following cell will load the Natural Language Question and Known Good SQL pairs into our Vector Store. There pairs are loaded from `known_good_sql.csv` file inside scripts folder. If you have your own Question-SQL examples, curate them in .csv file before running the cell below. \n",
    "\n",
    "If no Known Good Queries are available at this time to create query cache, you can use [3_LoadKnownGoodSQL.ipynb](3_LoadKnownGoodSQL.ipynb) to load them later. \n",
    "\n"
   ]
  },
  {
   "cell_type": "markdown",
   "metadata": {},
   "source": [
    "#### Format of the Known Good SQL File (known_good_sql.csv)\n",
    "\n",
    "prompt | sql | user_grouping [3 columns]\n",
    "\n",
    "prompt ==> User Question \n",
    "\n",
    "sql ==> SQL for the user question (Note that the sql should enclosed in quotes and only in single line. Please remove the line  break)\n",
    "\n",
    "user_grouping ==>This name should exactly  match the grouping name you mentioned while creating vector store"
   ]
  },
  {
   "cell_type": "code",
   "execution_count": 14,
   "metadata": {},
   "outputs": [
    {
     "name": "stdout",
     "output_type": "stream",
     "text": [
      "Creating kgq table in vector store.\n",
      "Reading contents of known_good_sql.csv\n",
      "Storing kgq embeddings in vector store table.\n",
      "kgq embeddings stored.\n"
     ]
    }
   ],
   "source": [
    "from env_setup import create_kgq_sql_table, store_kgq_sql_embeddings\n",
    "\n",
    "# Create table for known good queries (if enabled)\n",
    "await(create_kgq_sql_table()) \n",
    "\n",
    "# Store known good query embeddings (if enabled)\n",
    "await(store_kgq_sql_embeddings())  \n"
   ]
  },
  {
   "cell_type": "markdown",
   "metadata": {},
   "source": [
    "### 🥁 If all the above steps are executed suucessfully, the following should be set up:\n",
    "\n",
    "* GCP project and all the required IAM permissions\n",
    "\n",
    "* Environment to run the solution\n",
    "\n",
    "* Data source and Vector store for the solution"
   ]
  },
  {
   "cell_type": "markdown",
   "metadata": {},
   "source": [
    "__________________________________________________________________________________________________________________"
   ]
  }
 ],
 "metadata": {
  "colab": {
   "provenance": []
  },
  "kernelspec": {
   "display_name": "Python 3 (ipykernel)",
   "language": "python",
   "name": "python3"
  },
  "language_info": {
   "codemirror_mode": {
    "name": "ipython",
    "version": 3
   },
   "file_extension": ".py",
   "mimetype": "text/x-python",
   "name": "python",
   "nbconvert_exporter": "python",
   "pygments_lexer": "ipython3",
   "version": "3.11.11"
  }
 },
 "nbformat": 4,
 "nbformat_minor": 4
}
